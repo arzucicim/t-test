{
 "cells": [
  {
   "cell_type": "code",
   "execution_count": 1,
   "id": "bd590741-b621-4867-b52b-1ec5d69a30b4",
   "metadata": {},
   "outputs": [],
   "source": [
    "import numpy as np\n",
    "import scipy.stats as stats\n",
    "\n",
    "def t_testi(yeni_list, mu = 0, alpha = 0.05):\n",
    "    t_stat, p_value = stats.ttest_1samp(yeni_list, mu)\n",
    "    print(f\"\\n t istatistigi : {t_stat:.4f}\")\n",
    "    print(f\"\\n p degeri :{p_value:.4f}\")\n",
    "\n",
    "    if p_value < alpha:\n",
    "        print(\"sonuc: h0 reddedildi, örneklem ortalaması popülasyon ortalamasından farklıdır.\")\n",
    "    else:\n",
    "        print(\"Sonuc : ho kabul edilir, örneklem ortalaması populasyon ortalamasına esit olabilir.\")"
   ]
  },
  {
   "cell_type": "code",
   "execution_count": 4,
   "id": "757316db-5d50-41fd-ae35-363527eed12d",
   "metadata": {},
   "outputs": [
    {
     "name": "stdout",
     "output_type": "stream",
     "text": [
      "\n",
      " t istatistigi : 10.2530\n",
      "\n",
      " p degeri :0.0001\n",
      "sonuc: h0 reddedildi, örneklem ortalaması popülasyon ortalamasından farklıdır.\n"
     ]
    }
   ],
   "source": [
    "yeni_list = [10,15,22,18,13,17,21]\n",
    "t_testi(yeni_list)"
   ]
  },
  {
   "cell_type": "code",
   "execution_count": null,
   "id": "d40e8d7e-924c-44cb-a224-5ec81f294f92",
   "metadata": {},
   "outputs": [],
   "source": []
  }
 ],
 "metadata": {
  "kernelspec": {
   "display_name": "Python 3 (ipykernel)",
   "language": "python",
   "name": "python3"
  },
  "language_info": {
   "codemirror_mode": {
    "name": "ipython",
    "version": 3
   },
   "file_extension": ".py",
   "mimetype": "text/x-python",
   "name": "python",
   "nbconvert_exporter": "python",
   "pygments_lexer": "ipython3",
   "version": "3.12.4"
  }
 },
 "nbformat": 4,
 "nbformat_minor": 5
}
